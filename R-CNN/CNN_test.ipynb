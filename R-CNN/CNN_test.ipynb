{
 "cells": [
  {
   "cell_type": "code",
   "execution_count": 1,
   "metadata": {
    "collapsed": true
   },
   "outputs": [],
   "source": [
    "import tensorflow as tf\n",
    "import numpy as np\n",
    "import os\n",
    "import time\n",
    "import pickle\n",
    "import datetime\n",
    "import logging\n",
    "from CNN import malware_CNN\n",
    "from config import get_config\n",
    "from sklearn.model_selection import train_test_split\n",
    "from tensorflow.contrib import learn\n",
    "\n",
    "logging.getLogger().setLevel(logging.INFO)"
   ]
  },
  {
   "cell_type": "code",
   "execution_count": 2,
   "metadata": {
    "collapsed": false
   },
   "outputs": [],
   "source": [
    "#Data parameters\n",
    "tf.flags.DEFINE_string(\"data_path\", \"/home/zx/gram3_gain1000/data_process_data_original_value_test\",\"data_path\")\n",
    "tf.flags.DEFINE_string(\"save_path\" , \"/home/zx/cuckoo_1000/session_save/\",\"Model output directory.\")\n",
    "tf.flags.DEFINE_string(\"checkpoint_dir\",\"/home/zx/cuckoo_1000/session_save/checkpoints\",\"checkpoint directory from train run\")\n",
    "#Misc Parameters\n",
    "tf.flags.DEFINE_boolean(\"allow_soft_placement\",True,\"Allow device soft device placement\")\n",
    "tf.flags.DEFINE_boolean(\"log_device_placement\",False,\"Log placement of ops on devices\")\n",
    "FLAGS =tf.flags.FLAGS"
   ]
  },
  {
   "cell_type": "code",
   "execution_count": 3,
   "metadata": {
    "collapsed": true
   },
   "outputs": [],
   "source": [
    "def load_data(file_name):\n",
    "    with open(file_name, \"rb\") as f:\n",
    "        raw_x, raw_y = pickle.load(f)\n",
    "        raw_x=np.array(raw_x)\n",
    "        raw_y=np.argmax(raw_y,axis=1)\n",
    "    return raw_x,raw_y"
   ]
  },
  {
   "cell_type": "code",
   "execution_count": 4,
   "metadata": {
    "collapsed": false
   },
   "outputs": [],
   "source": [
    "def test():\n",
    "    x_test,y_test=load_data(FLAGS.data_path)\n",
    "    checkpoint_file=tf.train.latest_checkpoint(FLAGS.checkpoint_dir)\n",
    "    graph=tf.Graph()\n",
    "    with graph.as_default():\n",
    "        session_conf=tf.ConfigProto(allow_soft_placement=FLAGS.allow_soft_placement,log_device_placement=FLAGS.log_device_placement)\n",
    "        sess=tf.Session(config=session_conf)\n",
    "        with sess.as_default:\n",
    "            #Load the saved meta graph and restore variables\n",
    "            saver=tf.train.import_meta_graph(\"{}.meta\".format(checkpoint_file))\n",
    "            saver.restore(sess,checkpoint_file)\n",
    "            #get the placeholder from the graph by name\n",
    "            input_x=graph.get_operation_by_name(\"input_x\").outputs[0]\n",
    "            input_y=graph.get_operation_by_name(\"input_y\").outputs[0]\n",
    "            dropout_keep_prob=graph.get_operation_by_name(\"dropour_keep_prob\").outputs[0]\n",
    "            predictions=graph.get_operation_by_name(\"output/predictions\")\n",
    "            accuracy=graph.get_operation_by_name(\"accuracy/accuracy\")\n",
    "            #get the predictions value\n",
    "            predictions_test,accuracy_test=sess.run({predictions,accuracy},{inputs:x_test,dropout_keep_prob:1.0})\n",
    "            logging.critical(\"accuracy_test:{}\".format(accuracy_test))\n",
    "\n",
    "        \n",
    "        \n",
    "        \n",
    "            \n",
    "            \n",
    "            "
   ]
  },
  {
   "cell_type": "code",
   "execution_count": 5,
   "metadata": {
    "collapsed": false
   },
   "outputs": [],
   "source": [
    "def main(argv=None):\n",
    "     if not FLAGS.data_path:\n",
    "        raise ValueError(\"Must set --data_path to data file\")\n",
    "       # test()\n",
    "    "
   ]
  },
  {
   "cell_type": "code",
   "execution_count": 6,
   "metadata": {
    "collapsed": false
   },
   "outputs": [],
   "source": [
    "if __name__ == '__main__':\n",
    "    main()"
   ]
  },
  {
   "cell_type": "code",
   "execution_count": 7,
   "metadata": {
    "collapsed": false
   },
   "outputs": [
    {
     "name": "stderr",
     "output_type": "stream",
     "text": [
      "No traceback available to show.\n"
     ]
    }
   ],
   "source": []
  },
  {
   "cell_type": "code",
   "execution_count": null,
   "metadata": {
    "collapsed": true
   },
   "outputs": [],
   "source": []
  }
 ],
 "metadata": {
  "kernelspec": {
   "display_name": "Python 2",
   "language": "python",
   "name": "python2"
  },
  "language_info": {
   "codemirror_mode": {
    "name": "ipython",
    "version": 2
   },
   "file_extension": ".py",
   "mimetype": "text/x-python",
   "name": "python",
   "nbconvert_exporter": "python",
   "pygments_lexer": "ipython2",
   "version": "2.7.13"
  }
 },
 "nbformat": 4,
 "nbformat_minor": 2
}
