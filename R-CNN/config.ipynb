{
 "cells": [
  {
   "cell_type": "code",
   "execution_count": 1,
   "metadata": {
    "collapsed": true
   },
   "outputs": [],
   "source": [
    "def get_config(opt):\n",
    "    if opt == \"test\":\n",
    "        return config_test()\n",
    "    elif opt == \"valid\":\n",
    "        return config_valid()\n",
    "    else:\n",
    "        return config()\n",
    "    \n",
    "\n",
    "class config(object):\n",
    "    embedding_dim=64\n",
    "    filter_size1=3\n",
    "    filter_sizes=[3,4,5]\n",
    "    num_filter1=20\n",
    "    num_filter2=40\n",
    "    l2_reg_lamda=0.0\n",
    "    batch_size=64\n",
    "    num_epochs=100\n",
    "    num_classes=2\n",
    "    sequence_length=1000\n",
    "    vocab_size=400\n",
    "    one_hot=False\n",
    "    learning_rate=1e-3\n",
    "    dropout_keep_prob=0.5\n",
    "    num_classes=2\n",
    "    l2_reg_lambda=0.0\n",
    "    \n",
    "class config_valid(object):\n",
    "    embedding_dim=64\n",
    "    filter_size1=3\n",
    "    filter_sizes=[3,4,5]\n",
    "    num_filter1=20\n",
    "    num_filter2=40\n",
    "    l2_reg_lamda=0.0\n",
    "    batch_size=64\n",
    "    num_epochs=100\n",
    "    num_classes=2\n",
    "    sequence_length=1000\n",
    "    vocab_size=400\n",
    "    one_hot=False\n",
    "    learning_rate=1e-3\n",
    "    dropout_keep_prob=1.0\n",
    "    num_classes=2\n",
    "    l2_reg_lambda=0.0\n",
    "    \n",
    "class config_test(object):\n",
    "    embedding_dim=64\n",
    "    filter_size1=3\n",
    "    filter_sizes=[3,4,5]\n",
    "    num_filter1=20\n",
    "    num_filter2=40\n",
    "    l2_reg_lamda=0.0\n",
    "    batch_size=1\n",
    "    num_epochs=100\n",
    "    num_classes=2\n",
    "    sequence_length=1000\n",
    "    vocab_size=400\n",
    "    one_hot=False\n",
    "    learning_rate=1e-3\n",
    "    dropout_keep_prob=1.0\n",
    "    num_classes=2\n",
    "    l2_reg_lambda=0.0\n",
    "    \n",
    "\n",
    "    \n",
    "    "
   ]
  },
  {
   "cell_type": "code",
   "execution_count": null,
   "metadata": {
    "collapsed": true
   },
   "outputs": [],
   "source": []
  }
 ],
 "metadata": {
  "kernelspec": {
   "display_name": "Python 2",
   "language": "python",
   "name": "python2"
  },
  "language_info": {
   "codemirror_mode": {
    "name": "ipython",
    "version": 2
   },
   "file_extension": ".py",
   "mimetype": "text/x-python",
   "name": "python",
   "nbconvert_exporter": "python",
   "pygments_lexer": "ipython2",
   "version": "2.7.13"
  }
 },
 "nbformat": 4,
 "nbformat_minor": 2
}
