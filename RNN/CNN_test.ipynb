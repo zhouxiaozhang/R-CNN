{
 "cells": [
  {
   "cell_type": "code",
   "execution_count": 1,
   "metadata": {
    "collapsed": true
   },
   "outputs": [],
   "source": [
    "import tensorflow as tf\n",
    "import numpy as np\n",
    "import os\n",
    "import time\n",
    "import pickle\n",
    "import datetime\n",
    "import logging\n",
    "from CNN import malware_RNN\n",
    "from config import get_config\n",
    "from sklearn.model_selection import train_test_split\n",
    "from tensorflow.contrib import learn\n",
    "from sklearn.metrics import roc_auc_score \n",
    "from sklearn.metrics import accuracy_score\n",
    "\n",
    "logging.getLogger().setLevel(logging.INFO)"
   ]
  },
  {
   "cell_type": "code",
   "execution_count": 2,
   "metadata": {
    "collapsed": false
   },
   "outputs": [],
   "source": [
    "#Data parameters\n",
    "tf.flags.DEFINE_string(\"data_path\", \"/home/zx/gram3_gain1000/data_process_data_original_value_test\",\"data_path\")\n",
    "tf.flags.DEFINE_string(\"save_path\" , \"/home/zx/RCNN/CNN/session_save/\",\"Model output directory.\")\n",
    "tf.flags.DEFINE_string(\"checkpoint_dir\",\"/home/zx/RCNN/CNN/session_save/checkpoints\",\"checkpoint directory from train run\")\n",
    "#Misc Parameters\n",
    "tf.flags.DEFINE_boolean(\"allow_soft_placement\",True,\"Allow device soft device placement\")\n",
    "tf.flags.DEFINE_boolean(\"log_device_placement\",False,\"Log placement of ops on devices\")\n",
    "FLAGS =tf.flags.FLAGS"
   ]
  },
  {
   "cell_type": "code",
   "execution_count": 3,
   "metadata": {
    "collapsed": true
   },
   "outputs": [],
   "source": [
    "def load_data(file_name):\n",
    "    with open(file_name, \"rb\") as f:\n",
    "        raw_x, raw_y = pickle.load(f)\n",
    "    return raw_x,raw_y\n",
    "def real_len_test(batches):\n",
    "    real=[]\n",
    "    for batch in batches:\n",
    "        if min(batch)>=1:\n",
    "            result=1000\n",
    "        else:\n",
    "            result=np.argmin(batch)\n",
    "        real.append(result) \n",
    "    return real"
   ]
  },
  {
   "cell_type": "code",
   "execution_count": 4,
   "metadata": {
    "collapsed": false
   },
   "outputs": [],
   "source": [
    "def test():\n",
    "    x_test,y_test=load_data(FLAGS.data_path)\n",
    "    checkpoint_file=tf.train.latest_checkpoint(FLAGS.checkpoint_dir)\n",
    "    print(checkpoint_file)\n",
    "    graph=tf.Graph()\n",
    "    with graph.as_default():\n",
    "        session_conf=tf.ConfigProto(allow_soft_placement=FLAGS.allow_soft_placement,log_device_placement=FLAGS.log_device_placement)\n",
    "        sess=tf.Session(config=session_conf)\n",
    "        with sess.as_default():\n",
    "            print(checkpoint_file)\n",
    "            #Load the saved meta graph and restore variables\n",
    "            saver=tf.train.import_meta_graph(\"{}.meta\".format(checkpoint_file))\n",
    "            saver.restore(sess,checkpoint_file)\n",
    "            #get the placeholder from the graph by name\n",
    "            input_x=graph.get_operation_by_name(\"input_x\").outputs[0]\n",
    "            input_y=graph.get_operation_by_name(\"input_y\").outputs[0]\n",
    "            dropout_keep_prob=graph.get_operation_by_name(\"dropout_keep_prob\").outputs[0]\n",
    "            real_len=graph.get_operation_by_name(\"real_len\").outputs[0]\n",
    "            batch_size=graph.get_operation_by_name(\"batch_size\").outputs[0]\n",
    "            y_pre=graph.get_operation_by_name(\"loss/y_pred\").outputs[0]\n",
    "            #predictions=graph.get_operation_by_name(\"output/predictions\")\n",
    "            #accuracy=graph.get_operation_by_name(\"accuracy/accuracy\")\n",
    "            #get the predictions value\n",
    "                #feed,give\n",
    "            feed_dict={\n",
    "            input_x:x_test,\n",
    "            input_y:y_test,\n",
    "            dropout_keep_prob:1.0,\n",
    "            batch_size:len(x_test),\n",
    "            real_len:real_len_test(x_test)\n",
    "              }\n",
    "            #out\n",
    "            fetches = {\n",
    "            \"y_pre\" :y_pre\n",
    "            }\n",
    "            fetches_ret=sess.run(fetches , feed_dict)\n",
    "            y_p=fetches_ret[y_pre]\n",
    "            auc=roc_auc_score(y_test, y_p)\n",
    "            for i,y_acc in enumerate(y_p):\n",
    "                if y_acc>0.5:\n",
    "                    y_p[i]=1\n",
    "                else:\n",
    "                    y_p[i]=0\n",
    "            acc=accuracy_score(y_test, y_p)\n",
    "            logging.critical(\"auc:{}\".format(auc))\n",
    "\n",
    "        \n",
    "        \n",
    "        \n",
    "            \n",
    "            \n",
    "            "
   ]
  },
  {
   "cell_type": "code",
   "execution_count": 5,
   "metadata": {
    "collapsed": false
   },
   "outputs": [],
   "source": [
    "def main(argv=None):\n",
    "    if not FLAGS.data_path:\n",
    "        raise ValueError(\"Must set --data_path to data file\")\n",
    "    test()\n",
    "    "
   ]
  },
  {
   "cell_type": "code",
   "execution_count": 6,
   "metadata": {
    "collapsed": false
   },
   "outputs": [
    {
     "name": "stdout",
     "output_type": "stream",
     "text": [
      "/home/zx/RCNN/CNN/session_save/checkpoints/model-14\n",
      "/home/zx/RCNN/CNN/session_save/checkpoints/model-14\n"
     ]
    },
    {
     "ename": "NameError",
     "evalue": "global name 'y_p' is not defined",
     "output_type": "error",
     "traceback": [
      "\u001b[0;31m---------------------------------------------------------------------------\u001b[0m",
      "\u001b[0;31mNameError\u001b[0m                                 Traceback (most recent call last)",
      "\u001b[0;32m<ipython-input-6-2436fc2ab63a>\u001b[0m in \u001b[0;36m<module>\u001b[0;34m()\u001b[0m\n\u001b[1;32m      1\u001b[0m \u001b[0;32mif\u001b[0m \u001b[0m__name__\u001b[0m \u001b[0;34m==\u001b[0m \u001b[0;34m'__main__'\u001b[0m\u001b[0;34m:\u001b[0m\u001b[0;34m\u001b[0m\u001b[0m\n\u001b[0;32m----> 2\u001b[0;31m     \u001b[0mmain\u001b[0m\u001b[0;34m(\u001b[0m\u001b[0;34m)\u001b[0m\u001b[0;34m\u001b[0m\u001b[0m\n\u001b[0m",
      "\u001b[0;32m<ipython-input-5-ec0cfbd77c50>\u001b[0m in \u001b[0;36mmain\u001b[0;34m(argv)\u001b[0m\n\u001b[1;32m      2\u001b[0m     \u001b[0;32mif\u001b[0m \u001b[0;32mnot\u001b[0m \u001b[0mFLAGS\u001b[0m\u001b[0;34m.\u001b[0m\u001b[0mdata_path\u001b[0m\u001b[0;34m:\u001b[0m\u001b[0;34m\u001b[0m\u001b[0m\n\u001b[1;32m      3\u001b[0m         \u001b[0;32mraise\u001b[0m \u001b[0mValueError\u001b[0m\u001b[0;34m(\u001b[0m\u001b[0;34m\"Must set --data_path to data file\"\u001b[0m\u001b[0;34m)\u001b[0m\u001b[0;34m\u001b[0m\u001b[0m\n\u001b[0;32m----> 4\u001b[0;31m     \u001b[0mtest\u001b[0m\u001b[0;34m(\u001b[0m\u001b[0;34m)\u001b[0m\u001b[0;34m\u001b[0m\u001b[0m\n\u001b[0m\u001b[1;32m      5\u001b[0m \u001b[0;34m\u001b[0m\u001b[0m\n",
      "\u001b[0;32m<ipython-input-4-c8eb239be373>\u001b[0m in \u001b[0;36mtest\u001b[0;34m()\u001b[0m\n\u001b[1;32m     35\u001b[0m             }\n\u001b[1;32m     36\u001b[0m             \u001b[0mfetches_ret\u001b[0m\u001b[0;34m=\u001b[0m\u001b[0msess\u001b[0m\u001b[0;34m.\u001b[0m\u001b[0mrun\u001b[0m\u001b[0;34m(\u001b[0m\u001b[0mfetches\u001b[0m \u001b[0;34m,\u001b[0m \u001b[0mfeed_dict\u001b[0m\u001b[0;34m)\u001b[0m\u001b[0;34m\u001b[0m\u001b[0m\n\u001b[0;32m---> 37\u001b[0;31m             \u001b[0mauc\u001b[0m\u001b[0;34m=\u001b[0m\u001b[0mroc_auc_score\u001b[0m\u001b[0;34m(\u001b[0m\u001b[0my_test\u001b[0m\u001b[0;34m,\u001b[0m \u001b[0my_p\u001b[0m\u001b[0;34m)\u001b[0m\u001b[0;34m\u001b[0m\u001b[0m\n\u001b[0m\u001b[1;32m     38\u001b[0m             \u001b[0;32mfor\u001b[0m \u001b[0mi\u001b[0m\u001b[0;34m,\u001b[0m\u001b[0my_acc\u001b[0m \u001b[0;32min\u001b[0m \u001b[0menumerate\u001b[0m\u001b[0;34m(\u001b[0m\u001b[0my_p\u001b[0m\u001b[0;34m)\u001b[0m\u001b[0;34m:\u001b[0m\u001b[0;34m\u001b[0m\u001b[0m\n\u001b[1;32m     39\u001b[0m                 \u001b[0;32mif\u001b[0m \u001b[0my_acc\u001b[0m\u001b[0;34m>\u001b[0m\u001b[0;36m0.5\u001b[0m\u001b[0;34m:\u001b[0m\u001b[0;34m\u001b[0m\u001b[0m\n",
      "\u001b[0;31mNameError\u001b[0m: global name 'y_p' is not defined"
     ]
    }
   ],
   "source": [
    "if __name__ == '__main__':\n",
    "    main()"
   ]
  },
  {
   "cell_type": "code",
   "execution_count": 7,
   "metadata": {
    "collapsed": false
   },
   "outputs": [
    {
     "name": "stderr",
     "output_type": "stream",
     "text": [
      "No traceback available to show.\n"
     ]
    }
   ],
   "source": []
  },
  {
   "cell_type": "code",
   "execution_count": null,
   "metadata": {
    "collapsed": true
   },
   "outputs": [],
   "source": []
  }
 ],
 "metadata": {
  "kernelspec": {
   "display_name": "Python 2",
   "language": "python",
   "name": "python2"
  },
  "language_info": {
   "codemirror_mode": {
    "name": "ipython",
    "version": 2
   },
   "file_extension": ".py",
   "mimetype": "text/x-python",
   "name": "python",
   "nbconvert_exporter": "python",
   "pygments_lexer": "ipython2",
   "version": "2.7.13"
  }
 },
 "nbformat": 4,
 "nbformat_minor": 2
}
